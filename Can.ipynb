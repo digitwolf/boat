{
 "cells": [
  {
   "cell_type": "code",
   "execution_count": 5,
   "metadata": {},
   "outputs": [],
   "source": [
    "import can\n",
    "\n",
    "bus = can.interface.Bus(bustype='socketcan', channel='can0', bitrate=250000)"
   ]
  },
  {
   "cell_type": "code",
   "execution_count": 6,
   "metadata": {},
   "outputs": [],
   "source": [
    "def handle_status(msg):\n",
    "    msg.data\n",
    "    "
   ]
  },
  {
   "cell_type": "code",
   "execution_count": 7,
   "metadata": {},
   "outputs": [
    {
     "name": "stdout",
     "output_type": "stream",
     "text": [
      "Timestamp: 1588384423.349192        ID: 000c    S E              DLC:  8    00 30 08 00 00 00 00 00     Channel: can0\n",
      "Timestamp: 1588384422.628282        ID: 000c    S E              DLC:  8    00 30 08 00 00 00 00 00     Channel: can0\n",
      "Timestamp: 1588384422.628407        ID: 000c    S E              DLC:  8    00 30 08 00 00 00 00 00     Channel: can0\n",
      "Timestamp: 1588384422.628529        ID: 000c    S E              DLC:  8    00 30 08 00 00 00 00 00     Channel: can0\n",
      "Timestamp: 1588384422.628657        ID: 000c    S E              DLC:  8    00 30 08 00 00 00 00 00     Channel: can0\n",
      "Timestamp: 1588384422.628786        ID: 000c    S E              DLC:  8    00 30 08 00 00 00 00 00     Channel: can0\n",
      "Timestamp: 1588384422.628909        ID: 000c    S E              DLC:  8    00 30 08 00 00 00 00 00     Channel: can0\n",
      "Timestamp: 1588384422.629031        ID: 000c    S E              DLC:  8    00 30 08 00 00 00 00 00     Channel: can0\n",
      "Timestamp: 1588384422.629156        ID: 000c    S E              DLC:  8    00 30 08 00 00 00 00 00     Channel: can0\n",
      "Timestamp: 1588384422.629280        ID: 000c    S E              DLC:  8    00 30 08 00 00 00 00 00     Channel: can0\n",
      "Timestamp: 1588384422.629406        ID: 000c    S E              DLC:  8    00 30 08 00 00 00 00 00     Channel: can0\n",
      "Timestamp: 1588384422.629530        ID: 000c    S E              DLC:  8    00 30 08 00 00 00 00 00     Channel: can0\n",
      "Timestamp: 1588384422.629655        ID: 000c    S E              DLC:  8    00 30 08 00 00 00 00 00     Channel: can0\n",
      "Timestamp: 1588384422.629780        ID: 000c    S E              DLC:  8    00 30 08 00 00 00 00 00     Channel: can0\n",
      "Timestamp: 1588384422.629907        ID: 000c    S E              DLC:  8    00 30 08 00 00 00 00 00     Channel: can0\n",
      "Timestamp: 1588384422.630035        ID: 004c    S E              DLC:  8    00 0c 08 00 00 00 00 00     Channel: can0\n",
      "Timestamp: 1588384422.630156        ID: 004c    S E              DLC:  8    00 0c 08 00 00 00 00 00     Channel: can0\n",
      "Timestamp: 1588384422.630289        ID: 004c    S E              DLC:  8    00 0c 08 00 00 00 00 00     Channel: can0\n",
      "Timestamp: 1588384422.630406        ID: 004c    S E              DLC:  8    00 0c 08 00 00 00 00 00     Channel: can0\n",
      "Timestamp: 1588384422.630530        ID: 004c    S E              DLC:  8    00 0c 08 00 00 00 00 00     Channel: can0\n",
      "Timestamp: 1588384422.630656        ID: 004c    S E              DLC:  8    00 0c 08 00 00 00 00 00     Channel: can0\n",
      "Timestamp: 1588384422.630780        ID: 004c    S E              DLC:  8    00 0c 08 00 00 00 00 00     Channel: can0\n",
      "Timestamp: 1588384422.630905        ID: 004c    S E              DLC:  8    00 0c 08 00 00 00 00 00     Channel: can0\n",
      "Timestamp: 1588384422.631029        ID: 004c    S E              DLC:  8    00 0c 08 00 00 00 00 00     Channel: can0\n",
      "Timestamp: 1588384422.631157        ID: 004c    S E              DLC:  8    00 0c 08 00 00 00 00 00     Channel: can0\n",
      "Timestamp: 1588384422.631286        ID: 004c    S E              DLC:  8    00 0c 08 00 00 00 00 00     Channel: can0\n",
      "Timestamp: 1588384422.631407        ID: 004c    S E              DLC:  8    00 0c 08 00 00 00 00 00     Channel: can0\n",
      "Timestamp: 1588384422.631532        ID: 004c    S E              DLC:  8    00 0c 08 00 00 00 00 00     Channel: can0\n",
      "Timestamp: 1588384422.631656        ID: 004c    S E              DLC:  8    00 0c 08 00 00 00 00 00     Channel: can0\n",
      "Timestamp: 1588384422.631781        ID: 004c    S E              DLC:  8    00 0c 08 00 00 00 00 00     Channel: can0\n",
      "Timestamp: 1588384422.631906        ID: 004c    S E              DLC:  8    00 0c 08 00 00 00 00 00     Channel: can0\n",
      "Timestamp: 1588384422.632031        ID: 004c    S E              DLC:  8    00 0c 08 00 00 00 00 00     Channel: can0\n",
      "Timestamp: 1588384422.632155        ID: 004c    S E              DLC:  8    00 0c 08 00 00 00 00 00     Channel: can0\n",
      "Timestamp: 1588384422.632278        ID: 004c    S E              DLC:  8    00 0c 08 00 00 00 00 00     Channel: can0\n",
      "Timestamp: 1588384422.632407        ID: 004c    S E              DLC:  8    00 0c 08 00 00 00 00 00     Channel: can0\n",
      "Timestamp: 1588384422.632535        ID: 004c    S E              DLC:  8    00 0c 08 00 00 00 00 00     Channel: can0\n",
      "Timestamp: 1588384422.632657        ID: 004c    S E              DLC:  8    00 0c 08 00 00 00 00 00     Channel: can0\n",
      "Timestamp: 1588384422.632781        ID: 004c    S E              DLC:  8    00 0c 08 00 00 00 00 00     Channel: can0\n",
      "Timestamp: 1588384422.632906        ID: 004c    S E              DLC:  8    00 0c 08 00 00 00 00 00     Channel: can0\n",
      "Timestamp: 1588384422.633030        ID: 004c    S E              DLC:  8    00 0c 08 00 00 00 00 00     Channel: can0\n",
      "Timestamp: 1588384422.633155        ID: 004c    S E              DLC:  8    00 0c 08 00 00 00 00 00     Channel: can0\n",
      "Timestamp: 1588384422.633280        ID: 004c    S E              DLC:  8    00 0c 08 00 00 00 00 00     Channel: can0\n",
      "Timestamp: 1588384422.633405        ID: 004c    S E              DLC:  8    00 0c 08 00 00 00 00 00     Channel: can0\n",
      "Timestamp: 1588384422.633529        ID: 004c    S E              DLC:  8    00 0c 08 00 00 00 00 00     Channel: can0\n",
      "Timestamp: 1588384422.633656        ID: 004c    S E              DLC:  8    00 0c 08 00 00 00 00 00     Channel: can0\n",
      "Timestamp: 1588384422.633784        ID: 004c    S E              DLC:  8    00 0c 08 00 00 00 00 00     Channel: can0\n",
      "Timestamp: 1588384422.633905        ID: 004c    S E              DLC:  8    00 0c 08 00 00 00 00 00     Channel: can0\n",
      "Timestamp: 1588384422.634030        ID: 004c    S E              DLC:  8    00 0c 08 00 00 00 00 00     Channel: can0\n",
      "Timestamp: 1588384422.634155        ID: 004c    S E              DLC:  8    00 0c 08 00 00 00 00 00     Channel: can0\n",
      "Timestamp: 1588384422.634280        ID: 004c    S E              DLC:  8    00 0c 08 00 00 00 00 00     Channel: can0\n",
      "Timestamp: 1588384422.634406        ID: 004c    S E              DLC:  8    00 0c 08 00 00 00 00 00     Channel: can0\n",
      "Timestamp: 1588384422.634530        ID: 004c    S E              DLC:  8    00 0c 08 00 00 00 00 00     Channel: can0\n",
      "Timestamp: 1588384422.634656        ID: 004c    S E              DLC:  8    00 0c 08 00 00 00 00 00     Channel: can0\n",
      "Timestamp: 1588384422.634778        ID: 004c    S E              DLC:  8    00 0c 08 00 00 00 00 00     Channel: can0\n",
      "Timestamp: 1588384422.634906        ID: 004c    S E              DLC:  8    00 0c 08 00 00 00 00 00     Channel: can0\n",
      "Timestamp: 1588384422.635035        ID: 004c    S E              DLC:  8    00 0c 08 00 00 00 00 00     Channel: can0\n",
      "Timestamp: 1588384422.635156        ID: 004c    S E              DLC:  8    00 0c 08 00 00 00 00 00     Channel: can0\n",
      "Timestamp: 1588384422.635281        ID: 004c    S E              DLC:  8    00 0c 08 00 00 00 00 00     Channel: can0\n",
      "Timestamp: 1588384422.635405        ID: 004c    S E              DLC:  8    00 0c 08 00 00 00 00 00     Channel: can0\n",
      "Timestamp: 1588384422.635531        ID: 004c    S E              DLC:  8    00 0c 08 00 00 00 00 00     Channel: can0\n",
      "Timestamp: 1588384422.635656        ID: 004c    S E              DLC:  8    00 0c 08 00 00 00 00 00     Channel: can0\n",
      "Timestamp: 1588384422.635781        ID: 004c    S E              DLC:  8    00 0c 08 00 00 00 00 00     Channel: can0\n",
      "Timestamp: 1588384422.635905        ID: 004c    S E              DLC:  8    00 0c 08 00 00 00 00 00     Channel: can0\n",
      "Timestamp: 1588384422.636028        ID: 004c    S E              DLC:  8    00 0c 08 00 00 00 00 00     Channel: can0\n",
      "Timestamp: 1588384422.636156        ID: 004c    S E              DLC:  8    00 0c 08 00 00 00 00 00     Channel: can0\n",
      "Timestamp: 1588384422.636290        ID: 004c    S E              DLC:  8    00 0c 08 00 00 00 00 00     Channel: can0\n",
      "Timestamp: 1588384422.636406        ID: 004c    S E              DLC:  8    00 0c 08 00 00 00 00 00     Channel: can0\n",
      "Timestamp: 1588384422.636531        ID: 004c    S E              DLC:  8    00 0c 08 00 00 00 00 00     Channel: can0\n",
      "Timestamp: 1588384422.636656        ID: 004c    S E              DLC:  8    00 0c 08 00 00 00 00 00     Channel: can0\n",
      "Timestamp: 1588384422.636782        ID: 004c    S E              DLC:  8    00 0c 08 00 00 00 00 00     Channel: can0\n",
      "Timestamp: 1588384422.636905        ID: 004c    S E              DLC:  8    00 0c 08 00 00 00 00 00     Channel: can0\n",
      "Timestamp: 1588384422.637030        ID: 004c    S E              DLC:  8    00 0c 08 00 00 00 00 00     Channel: can0\n",
      "Timestamp: 1588384422.637155        ID: 004c    S E              DLC:  8    00 0c 08 00 00 00 00 00     Channel: can0\n",
      "Timestamp: 1588384422.637277        ID: 004c    S E              DLC:  8    00 0c 08 00 00 00 00 00     Channel: can0\n",
      "Timestamp: 1588384422.637406        ID: 004c    S E              DLC:  8    00 0c 08 00 00 00 00 00     Channel: can0\n",
      "Timestamp: 1588384422.637535        ID: 004c    S E              DLC:  8    00 0c 08 00 00 00 00 00     Channel: can0\n",
      "Timestamp: 1588384422.637655        ID: 004c    S E              DLC:  8    00 0c 08 00 00 00 00 00     Channel: can0\n",
      "Timestamp: 1588384422.637784        ID: 004c    S E              DLC:  8    00 0c 08 00 00 00 00 00     Channel: can0\n",
      "Timestamp: 1588384422.637905        ID: 004c    S E              DLC:  8    00 0c 08 00 00 00 00 00     Channel: can0\n",
      "Timestamp: 1588384422.638030        ID: 004c    S E              DLC:  8    00 0c 08 00 00 00 00 00     Channel: can0\n",
      "Timestamp: 1588384422.638155        ID: 004c    S E              DLC:  8    00 0c 08 00 00 00 00 00     Channel: can0\n",
      "Timestamp: 1588384422.638284        ID: 004c    S E              DLC:  8    00 0c 08 00 00 00 00 00     Channel: can0\n",
      "Timestamp: 1588384422.638406        ID: 004c    S E              DLC:  8    00 0c 08 00 00 00 00 00     Channel: can0\n",
      "Timestamp: 1588384422.638529        ID: 004c    S E              DLC:  8    00 0c 08 00 00 00 00 00     Channel: can0\n",
      "Timestamp: 1588384422.638657        ID: 004c    S E              DLC:  8    00 0c 08 00 00 00 00 00     Channel: can0\n",
      "Timestamp: 1588384422.638783        ID: 004c    S E              DLC:  8    00 0c 08 00 00 00 00 00     Channel: can0\n",
      "Timestamp: 1588384422.638906        ID: 004c    S E              DLC:  8    00 0c 08 00 00 00 00 00     Channel: can0\n",
      "Timestamp: 1588384422.639030        ID: 004c    S E              DLC:  8    00 0c 08 00 00 00 00 00     Channel: can0\n",
      "Timestamp: 1588384422.639156        ID: 004c    S E              DLC:  8    00 0c 08 00 00 00 00 00     Channel: can0\n",
      "Timestamp: 1588384422.639280        ID: 004c    S E              DLC:  8    00 0c 08 00 00 00 00 00     Channel: can0\n",
      "Timestamp: 1588384422.639406        ID: 004c    S E              DLC:  8    00 0c 08 00 00 00 00 00     Channel: can0\n",
      "Timestamp: 1588384422.639531        ID: 004c    S E              DLC:  8    00 0c 08 00 00 00 00 00     Channel: can0\n",
      "Timestamp: 1588384422.639656        ID: 004c    S E              DLC:  8    00 0c 08 00 00 00 00 00     Channel: can0\n",
      "Timestamp: 1588384422.639778        ID: 004c    S E              DLC:  8    00 0c 08 00 00 00 00 00     Channel: can0\n",
      "Timestamp: 1588384422.639906        ID: 004c    S E              DLC:  8    00 0c 08 00 00 00 00 00     Channel: can0\n",
      "Timestamp: 1588384422.640034        ID: 004c    S E              DLC:  8    00 0c 08 00 00 00 00 00     Channel: can0\n",
      "Timestamp: 1588384422.640155        ID: 004c    S E              DLC:  8    00 0c 08 00 00 00 00 00     Channel: can0\n",
      "Timestamp: 1588384422.640280        ID: 004c    S E              DLC:  8    00 0c 08 00 00 00 00 00     Channel: can0\n",
      "Timestamp: 1588384422.640406        ID: 004c    S E              DLC:  8    00 0c 08 00 00 00 00 00     Channel: can0\n",
      "Timestamp: 1588384422.640532        ID: 004c    S E              DLC:  8    00 0c 08 00 00 00 00 00     Channel: can0\n"
     ]
    }
   ],
   "source": [
    "for i in range(0,100):\n",
    "    message = bus.recv()\n",
    "    print(message)"
   ]
  },
  {
   "cell_type": "code",
   "execution_count": 8,
   "metadata": {},
   "outputs": [],
   "source": [
    "if message is None:\n",
    "    print('Timeout occurred, no message.')"
   ]
  },
  {
   "cell_type": "code",
   "execution_count": 8,
   "metadata": {},
   "outputs": [
    {
     "data": {
      "text/plain": [
       "can.Message(timestamp=1583223727.048821, arbitration_id=0x18eb2440, extended_id=True, channel='can0', dlc=8, data=[0x1, 0x1, 0xac, 0x3, 0x7d, 0xc, 0x45, 0xff])"
      ]
     },
     "execution_count": 8,
     "metadata": {},
     "output_type": "execute_result"
    }
   ],
   "source": [
    "message"
   ]
  },
  {
   "cell_type": "code",
   "execution_count": 6,
   "metadata": {},
   "outputs": [
    {
     "data": {
      "text/plain": [
       "<can.interfaces.socketcan.socketcan.SocketcanBus at 0xb09ac470>"
      ]
     },
     "execution_count": 6,
     "metadata": {},
     "output_type": "execute_result"
    }
   ],
   "source": [
    "bus"
   ]
  },
  {
   "cell_type": "code",
   "execution_count": 4,
   "metadata": {},
   "outputs": [],
   "source": [
    "bus.shutdown()"
   ]
  },
  {
   "cell_type": "code",
   "execution_count": null,
   "metadata": {},
   "outputs": [],
   "source": []
  }
 ],
 "metadata": {
  "kernelspec": {
   "display_name": "Python 3",
   "language": "python",
   "name": "python3"
  },
  "language_info": {
   "codemirror_mode": {
    "name": "ipython",
    "version": 3
   },
   "file_extension": ".py",
   "mimetype": "text/x-python",
   "name": "python",
   "nbconvert_exporter": "python",
   "pygments_lexer": "ipython3",
   "version": "3.7.3"
  }
 },
 "nbformat": 4,
 "nbformat_minor": 4
}
